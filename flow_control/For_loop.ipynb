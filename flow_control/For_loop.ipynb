{
 "cells": [
  {
   "cell_type": "markdown",
   "metadata": {},
   "source": [
    "# For\n",
    "\n",
    "Rudimentary syntax:\n",
    "\n",
    "```\n",
    "for <iterating>:\n",
    "    <expression\n",
    "```\n",
    "\n",
    "Definite iteration loops are frequently referred to as for loops because for is the keyword that is used to introduce them in nearly all programming languages, including Python.\n",
    "\n",
    "Historically, programming languages have offered a few assorted flavors of for loop. These are briefly described in the following sections.\n",
    "\n",
    "1. Numeric range loop\n",
    "    ```\n",
    "    for i = 1 to 10\n",
    "        <loop body>\n",
    "    ```\n",
    "2. Three-Expression Loop (C)\n",
    "    ```\n",
    "    for (i = 1; i <= 10; i++)\n",
    "        <loop body>\n",
    "    ```\n",
    "    \n",
    "3. Collection-Based or Iterator-Based Loop\n",
    "    ```\n",
    "    for i in <collection>\n",
    "        <loop body>\n",
    "    ```"
   ]
  },
  {
   "cell_type": "markdown",
   "metadata": {},
   "source": [
    "### Generate a sequence of numbers\n",
    "\n",
    "* `range` function"
   ]
  },
  {
   "cell_type": "code",
   "execution_count": 4,
   "metadata": {},
   "outputs": [
    {
     "name": "stdout",
     "output_type": "stream",
     "text": [
      "0\n",
      "2\n",
      "4\n",
      "6\n",
      "8\n"
     ]
    }
   ],
   "source": [
    "for i in range(0, 10, 2):\n",
    "    \n",
    "    # 0: start from 0\n",
    "    # 10: strictly less than 10\n",
    "    # 2: step width = 2\n",
    "    \n",
    "    print(i)"
   ]
  },
  {
   "cell_type": "code",
   "execution_count": 7,
   "metadata": {},
   "outputs": [
    {
     "name": "stdout",
     "output_type": "stream",
     "text": [
      "[0, 2, 4, 6, 8]\n"
     ]
    }
   ],
   "source": [
    "# initialise a list (as a container)\n",
    "mySequence = []\n",
    "\n",
    "for i in range(0, 10, 2):\n",
    "    \n",
    "    # Append i to mySequence\n",
    "    mySequence += [i]\n",
    "    \n",
    "print(mySequence)"
   ]
  },
  {
   "cell_type": "markdown",
   "metadata": {},
   "source": [
    "* `Pythonic` way"
   ]
  },
  {
   "cell_type": "code",
   "execution_count": 14,
   "metadata": {},
   "outputs": [
    {
     "name": "stdout",
     "output_type": "stream",
     "text": [
      "[0, 2, 4, 6, 8]\n"
     ]
    }
   ],
   "source": [
    "mySequence = [\n",
    "    i \n",
    "    for i in range(0, 10, 2)\n",
    "]\n",
    "\n",
    "print(mySequence)"
   ]
  },
  {
   "cell_type": "markdown",
   "metadata": {},
   "source": [
    "p.s. Whitespace is ignored within brackets!\n",
    "This syntax can be compared to a vanilla SQL statement as below:\n",
    "\n",
    "Only take prime numbers from mySequence"
   ]
  },
  {
   "cell_type": "code",
   "execution_count": 15,
   "metadata": {},
   "outputs": [
    {
     "name": "stdout",
     "output_type": "stream",
     "text": [
      "[2]\n"
     ]
    }
   ],
   "source": [
    "from utils import is_prime\n",
    "\n",
    "myPrimes = [\n",
    "    i                               # SELECT i\n",
    "    for i in mySequence             # FROM mySequence\n",
    "    if is_prime(i)                  # WHERE {i is a prime}\n",
    "]\n",
    "\n",
    "print(myPrimes)"
   ]
  }
 ],
 "metadata": {
  "kernelspec": {
   "display_name": "Python 3",
   "language": "python",
   "name": "python3"
  },
  "language_info": {
   "codemirror_mode": {
    "name": "ipython",
    "version": 3
   },
   "file_extension": ".py",
   "mimetype": "text/x-python",
   "name": "python",
   "nbconvert_exporter": "python",
   "pygments_lexer": "ipython3",
   "version": "3.6.4"
  }
 },
 "nbformat": 4,
 "nbformat_minor": 2
}
