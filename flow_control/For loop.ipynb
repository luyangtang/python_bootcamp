{
 "cells": [
  {
   "cell_type": "markdown",
   "metadata": {},
   "source": [
    "# For\n",
    "\n",
    "Rudimentary syntax:\n",
    "\n",
    "```\n",
    "for <iterating>:\n",
    "    <expression\n",
    "```\n",
    "\n",
    "Definite iteration loops are frequently referred to as for loops because for is the keyword that is used to introduce them in nearly all programming languages, including Python.\n",
    "\n",
    "Historically, programming languages have offered a few assorted flavors of for loop. These are briefly described in the following sections.\n",
    "\n",
    "1. Numeric range loop\n",
    "    ```\n",
    "    for i = 1 to 10\n",
    "        <loop body>\n",
    "    ```\n",
    "2. Three-Expression Loop (C)\n",
    "    ```\n",
    "    for (i = 1; i <= 10; i++)\n",
    "        <loop body>\n",
    "    ```\n",
    "    \n",
    "3. Collection-Based or Iterator-Based Loop\n",
    "    ```\n",
    "    for i in <collection>\n",
    "        <loop body>\n",
    "    ```"
   ]
  }
 ],
 "metadata": {
  "kernelspec": {
   "display_name": "Python 3",
   "language": "python",
   "name": "python3"
  },
  "language_info": {
   "codemirror_mode": {
    "name": "ipython",
    "version": 3
   },
   "file_extension": ".py",
   "mimetype": "text/x-python",
   "name": "python",
   "nbconvert_exporter": "python",
   "pygments_lexer": "ipython3",
   "version": "3.6.4"
  }
 },
 "nbformat": 4,
 "nbformat_minor": 2
}
