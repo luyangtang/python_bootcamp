{
 "cells": [
  {
   "cell_type": "markdown",
   "metadata": {},
   "source": [
    "# Functions\n",
    "\n",
    "* Naming convention: `lowercase_with_underscores`\n",
    "\n",
    "* Syntax:"
   ]
  },
  {
   "cell_type": "code",
   "execution_count": 1,
   "metadata": {},
   "outputs": [],
   "source": [
    "def my_function_name(arguments):\n",
    "    \n",
    "    # body of the function\n",
    "    # <- 4 space / 1 tab intendation\n",
    "    \n",
    "    pass"
   ]
  },
  {
   "cell_type": "markdown",
   "metadata": {},
   "source": [
    "### Parameter vs argument"
   ]
  },
  {
   "cell_type": "code",
   "execution_count": 5,
   "metadata": {},
   "outputs": [
    {
     "name": "stdout",
     "output_type": "stream",
     "text": [
      "'argument' is passed to 'parameter' as an argument\n"
     ]
    }
   ],
   "source": [
    "def my_function_name(parameter): # <- this is a parameter\n",
    "    \n",
    "    print('\\'%s\\' is passed to \\'parameter\\' as an argument' % parameter )\n",
    "\n",
    "my_function_name('argument') # <- this is an arguement"
   ]
  },
  {
   "cell_type": "markdown",
   "metadata": {},
   "source": [
    "### Positional argument vs keyword argument"
   ]
  },
  {
   "cell_type": "code",
   "execution_count": 7,
   "metadata": {},
   "outputs": [
    {
     "name": "stdout",
     "output_type": "stream",
     "text": [
      "param1 = arg1 and param2 = arg2\n",
      "param1 = arg2 and param2 = arg1\n"
     ]
    }
   ],
   "source": [
    "def my_function_with_two_parameters(param1, param2):\n",
    "    \n",
    "    print('param1 = %s and param2 = %s' % (param1, param2))\n",
    "    \n",
    "\n",
    "my_function_with_two_parameters('arg1', 'arg2') # positional argument\n",
    "my_function_with_two_parameters(param2 = 'arg1', param1 = 'arg2') # positional argument"
   ]
  },
  {
   "cell_type": "markdown",
   "metadata": {},
   "source": [
    "### Assign default value to a parameter"
   ]
  },
  {
   "cell_type": "code",
   "execution_count": 12,
   "metadata": {},
   "outputs": [
    {
     "name": "stdout",
     "output_type": "stream",
     "text": [
      "I have saved you some time\n"
     ]
    }
   ],
   "source": [
    "def my_function_with_a_default_param(param = 'I have saved you some time'):\n",
    "    \n",
    "    print(param)\n",
    "    \n",
    "my_function_with_a_default_param()"
   ]
  },
  {
   "cell_type": "markdown",
   "metadata": {},
   "source": [
    "### Argument list"
   ]
  },
  {
   "cell_type": "code",
   "execution_count": 13,
   "metadata": {},
   "outputs": [
    {
     "name": "stdout",
     "output_type": "stream",
     "text": [
      "{'param': 'I come from an argument list'}\n"
     ]
    }
   ],
   "source": [
    "args = {'param': 'I come from an argument list'}\n",
    "\n",
    "my_function_with_a_default_param(args)"
   ]
  },
  {
   "cell_type": "markdown",
   "metadata": {},
   "source": [
    "Ummmm, not quite right.."
   ]
  },
  {
   "cell_type": "code",
   "execution_count": 14,
   "metadata": {},
   "outputs": [
    {
     "name": "stdout",
     "output_type": "stream",
     "text": [
      "I come from an argument list\n"
     ]
    }
   ],
   "source": [
    "my_function_with_a_default_param(**args)"
   ]
  },
  {
   "cell_type": "markdown",
   "metadata": {},
   "source": [
    "Yay! That's all for this lesson."
   ]
  }
 ],
 "metadata": {
  "kernelspec": {
   "display_name": "Python 3",
   "language": "python",
   "name": "python3"
  },
  "language_info": {
   "codemirror_mode": {
    "name": "ipython",
    "version": 3
   },
   "file_extension": ".py",
   "mimetype": "text/x-python",
   "name": "python",
   "nbconvert_exporter": "python",
   "pygments_lexer": "ipython3",
   "version": "3.6.4"
  }
 },
 "nbformat": 4,
 "nbformat_minor": 2
}
