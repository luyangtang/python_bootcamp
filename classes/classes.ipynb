{
 "cells": [
  {
   "cell_type": "markdown",
   "metadata": {},
   "source": [
    "# Classes and Basic Object Oriented Programming (OOP)\n",
    "\n",
    "Classes provide a means of bundling data and functionality together. Creating a new class creates a new type of object, allowing new instances of that type to be made."
   ]
  },
  {
   "cell_type": "code",
   "execution_count": 7,
   "metadata": {},
   "outputs": [],
   "source": [
    "class Animal(object):\n",
    "    \n",
    "    '''\n",
    "    'Animal' is a class\n",
    "    '''\n",
    "    \n",
    "    pass"
   ]
  },
  {
   "cell_type": "code",
   "execution_count": 8,
   "metadata": {},
   "outputs": [],
   "source": [
    "dog = Animals() # dog is an INSTANCE of 'Animal'"
   ]
  },
  {
   "cell_type": "markdown",
   "metadata": {},
   "source": [
    "### Inside a class"
   ]
  },
  {
   "cell_type": "code",
   "execution_count": 19,
   "metadata": {},
   "outputs": [
    {
     "name": "stdout",
     "output_type": "stream",
     "text": [
      "Help on method method in module __main__:\n",
      "\n",
      "method() method of __main__.Animal instance\n",
      "    this_is_a_method\n",
      "\n",
      "this_is_an_attribute\n"
     ]
    }
   ],
   "source": [
    "class Animal(object):\n",
    "    \n",
    "    def method(self):\n",
    "        \n",
    "        '''\n",
    "        this_is_a_method\n",
    "        '''\n",
    "        \n",
    "        pass\n",
    "    \n",
    "    attribute = 'this_is_an_attribute'\n",
    "\n",
    "    \n",
    "# create an instance of Animal\n",
    "dog = Animal()\n",
    "\n",
    "help(dog.method)"
   ]
  },
  {
   "cell_type": "code",
   "execution_count": 21,
   "metadata": {},
   "outputs": [
    {
     "name": "stdout",
     "output_type": "stream",
     "text": [
      "this_is_an_attribute\n"
     ]
    }
   ],
   "source": [
    "print(dog.attribute)"
   ]
  },
  {
   "cell_type": "markdown",
   "metadata": {},
   "source": [
    "### Constructors (__init__)"
   ]
  },
  {
   "cell_type": "code",
   "execution_count": 31,
   "metadata": {},
   "outputs": [
    {
     "name": "stdout",
     "output_type": "stream",
     "text": [
      "I am getting executed\n",
      "my type is now poodle\n",
      "my sound is now bark bark bark\n"
     ]
    }
   ],
   "source": [
    "class Animal(object):\n",
    "    \n",
    "    def __init__(self):\n",
    "        \n",
    "        '''\n",
    "        the following commands get executed when creating an instance\n",
    "        '''\n",
    "        \n",
    "        print('I am getting executed')\n",
    "        \n",
    "        self.type = 'poodle'\n",
    "        print('my type is now %s' % self.type)\n",
    "        \n",
    "        \n",
    "        self.sound = 'bark bark bark'\n",
    "        print('my sound is now %s' % self.sound)\n",
    "        \n",
    "        \n",
    "\n",
    "dog = Animal()"
   ]
  },
  {
   "cell_type": "code",
   "execution_count": 32,
   "metadata": {},
   "outputs": [
    {
     "name": "stdout",
     "output_type": "stream",
     "text": [
      "poodle\n"
     ]
    }
   ],
   "source": [
    "print(dog.type)"
   ]
  },
  {
   "cell_type": "markdown",
   "metadata": {},
   "source": [
    "### Why classes?"
   ]
  },
  {
   "cell_type": "code",
   "execution_count": 44,
   "metadata": {},
   "outputs": [],
   "source": [
    "class Animal(object):\n",
    "    \n",
    "    def __init__(self, _type, _sound, _colour):\n",
    "        \n",
    "        self.type = _type\n",
    "        self.colour = _colour\n",
    "        self.sound = _sound\n",
    "\n",
    "    \n",
    "    def make_sound(self):\n",
    "        \n",
    "        print('A %s %s makes a %s sound!' % (self.colour, self.type, self.sound))\n",
    "\n",
    "\n",
    "dog = Animal('dog', 'bark bark bark', 'brown')\n",
    "cat = Animal('cat', 'meow meow meow', 'creamy')\n",
    "duck = Animal('duck', 'quack quack quack', 'green')\n",
    "fish = Animal('fish', '---', 'silver')"
   ]
  },
  {
   "cell_type": "markdown",
   "metadata": {},
   "source": [
    "Let all the animals make a noise:"
   ]
  },
  {
   "cell_type": "code",
   "execution_count": 45,
   "metadata": {},
   "outputs": [
    {
     "name": "stdout",
     "output_type": "stream",
     "text": [
      "A brown dog makes a bark bark bark sound!\n",
      "A creamy cat makes a meow meow meow sound!\n",
      "A green duck makes a quack quack quack sound!\n",
      "A silver fish makes a --- sound!\n"
     ]
    }
   ],
   "source": [
    "for animal in [dog, cat, duck, fish]:\n",
    "    \n",
    "    animal.make_sound()"
   ]
  },
  {
   "cell_type": "markdown",
   "metadata": {},
   "source": [
    "### Inheritance\n",
    "\n",
    "Now we have a new puppy joining the family - a white poodle. So now we have 2 puppies. 'Dog' is no longer an appropriate name. Let's create a new family consisting our pets!\n",
    "\n",
    "```\n",
    "tom = Animal('dog', 'bark bark bark', 'brown')\n",
    "jason = Animal('dog', 'bark bark bark', 'white')\n",
    "kitty = Animal('cat', 'meow meow meow', 'creamy')\n",
    "henry = Animal('duck', 'quack quack quack', 'green')\n",
    "george = Animal('fish', '---', 'silver')\n",
    "```\n",
    "\n",
    "All dogs barks - why do we bother to type 'bark bark bark' for every single puppy? A better approach would be create a class for puppies, which is inherited from the Animal class."
   ]
  },
  {
   "cell_type": "code",
   "execution_count": 47,
   "metadata": {},
   "outputs": [
    {
     "name": "stdout",
     "output_type": "stream",
     "text": [
      "A brown dog named Tom makes a bark bark bark sound!\n"
     ]
    }
   ],
   "source": [
    "class Animal(object):\n",
    "    \n",
    "    def __init__(self, _type, _sound, _colour, _name = None):\n",
    "        \n",
    "        self.type = _type\n",
    "        self.colour = _colour\n",
    "        self.sound = _sound\n",
    "        self.name = _name\n",
    "\n",
    "    \n",
    "    def make_sound(self):\n",
    "        \n",
    "        if self.name:\n",
    "            print('A %s %s named %s makes a %s sound!' % (self.colour, self.type, self.name, self.sound))\n",
    "        \n",
    "        else:\n",
    "            print('A %s %s without a name makes a %s sound!' % (self.colour, self.type, self.sound))\n",
    "\n",
    "\n",
    "        \n",
    "        \n",
    "class Dog(Animal):\n",
    "    \n",
    "    def __init__(self, _name, _colour):\n",
    "        \n",
    "        super().__init__(_type = 'dog', _sound = 'bark bark bark', _colour = _colour, _name = _name)\n",
    "        \n",
    "\n",
    "tom = Dog(_name = 'Tom', _colour = 'brown')\n",
    "tom.make_sound()"
   ]
  },
  {
   "cell_type": "markdown",
   "metadata": {},
   "source": [
    "Cool! Let's also create classes for cat, duck, fish"
   ]
  },
  {
   "cell_type": "code",
   "execution_count": 49,
   "metadata": {},
   "outputs": [],
   "source": [
    "class Cat(Animal):\n",
    "    \n",
    "    def __init__(self, _name, _colour):\n",
    "        \n",
    "        super().__init__(_type = 'cat', _sound = 'meow', _colour = _colour, _name = _name)\n",
    " \n",
    "\n",
    "class Duck(Animal):\n",
    "    \n",
    "    def __init__(self, _name, _colour):\n",
    "        \n",
    "        super().__init__(_type = 'duck', _sound = 'quack quack quack', _colour = _colour, _name = _name)\n",
    "    \n",
    "    \n",
    "class Fish(Animal):\n",
    "    \n",
    "    def __init__(self, _name, _colour):\n",
    "        \n",
    "        super().__init__(_type = 'fish', _sound = '---', _colour = _colour, _name = _name)\n",
    "        "
   ]
  },
  {
   "cell_type": "code",
   "execution_count": 52,
   "metadata": {},
   "outputs": [],
   "source": [
    "tom = Dog('Tom', 'brown')\n",
    "jason = Dog('Jason', 'white')\n",
    "kitty = Cat('Kitty', 'creamy')\n",
    "henry = Duck('Henry', 'green')\n",
    "george = Fish('George', 'silver')"
   ]
  },
  {
   "cell_type": "markdown",
   "metadata": {},
   "source": [
    "Let them sing together!"
   ]
  },
  {
   "cell_type": "code",
   "execution_count": 53,
   "metadata": {},
   "outputs": [
    {
     "name": "stdout",
     "output_type": "stream",
     "text": [
      "A brown dog named Tom makes a bark bark bark sound!\n",
      "A white dog named Jason makes a bark bark bark sound!\n",
      "A creamy cat named Kitty makes a meow sound!\n",
      "A green duck named Henry makes a quack quack quack sound!\n",
      "A silver fish named George makes a --- sound!\n"
     ]
    }
   ],
   "source": [
    "for pet in [tom, jason, kitty, henry, george]:\n",
    "    \n",
    "    pet.make_sound()"
   ]
  },
  {
   "cell_type": "markdown",
   "metadata": {},
   "source": [
    "This is case, 'Animal' is an *abstract* class because it should never be create explicitly. 'Animal' is just a name for living creatures!"
   ]
  },
  {
   "cell_type": "markdown",
   "metadata": {},
   "source": [
    "### Some Python functions"
   ]
  },
  {
   "cell_type": "code",
   "execution_count": 55,
   "metadata": {},
   "outputs": [
    {
     "name": "stdout",
     "output_type": "stream",
     "text": [
      "True\n",
      "False\n"
     ]
    }
   ],
   "source": [
    "# check if something is an instance of a certain class\n",
    "print(isinstance(tom, Dog))\n",
    "print(isinstance(tom, Cat))"
   ]
  },
  {
   "cell_type": "code",
   "execution_count": 57,
   "metadata": {},
   "outputs": [
    {
     "name": "stdout",
     "output_type": "stream",
     "text": [
      "True\n",
      "False\n"
     ]
    }
   ],
   "source": [
    "# check if something is a subclass of a base class\n",
    "print(issubclass(Dog, Animal))\n",
    "print(issubclass(Dog, str))"
   ]
  },
  {
   "cell_type": "markdown",
   "metadata": {},
   "source": [
    "### Private variables\n",
    "You may have some variables/methods defined but you don't want people to access (probably for security reasons). Imagine if people who don't know your code well enough can easily break your server."
   ]
  },
  {
   "cell_type": "code",
   "execution_count": 97,
   "metadata": {},
   "outputs": [],
   "source": [
    "from random import random\n",
    "from math import floor\n",
    "\n",
    "class TopSecret(object):\n",
    "    \n",
    "    def __init__(self, secret_message): \n",
    "        \n",
    "        self.secret_message = secret_message\n",
    "        self.secret_boss = floor(random() * 100)\n",
    "        \n",
    "        \n",
    "    def pass_message(self):\n",
    "         print('Your message \"%s\" has been sent to your secret_boss' % self.secret_message)"
   ]
  },
  {
   "cell_type": "code",
   "execution_count": 98,
   "metadata": {},
   "outputs": [
    {
     "name": "stdout",
     "output_type": "stream",
     "text": [
      "Your message \"I ate three brownies yesterday\" has been sent to your secret_boss\n"
     ]
    }
   ],
   "source": [
    "mySecret = TopSecret('I ate three brownies yesterday', )\n",
    "mySecret.pass_message()"
   ]
  },
  {
   "cell_type": "markdown",
   "metadata": {},
   "source": [
    "You want to protect your secret boss so you hid his name when passing the message. "
   ]
  },
  {
   "cell_type": "code",
   "execution_count": 100,
   "metadata": {},
   "outputs": [
    {
     "data": {
      "text/plain": [
       "7"
      ]
     },
     "execution_count": 100,
     "metadata": {},
     "output_type": "execute_result"
    }
   ],
   "source": [
    "mySecret.secret_boss"
   ]
  },
  {
   "cell_type": "markdown",
   "metadata": {},
   "source": [
    "Too bad! Let's make it a private variable"
   ]
  },
  {
   "cell_type": "code",
   "execution_count": 104,
   "metadata": {},
   "outputs": [
    {
     "ename": "AttributeError",
     "evalue": "'TopSecret' object has no attribute '__secret_boss'",
     "output_type": "error",
     "traceback": [
      "\u001b[0;31m---------------------------------------------------------------------------\u001b[0m",
      "\u001b[0;31mAttributeError\u001b[0m                            Traceback (most recent call last)",
      "\u001b[0;32m<ipython-input-104-6d0a1052f453>\u001b[0m in \u001b[0;36m<module>\u001b[0;34m()\u001b[0m\n\u001b[1;32m     12\u001b[0m \u001b[0ma_secure_msg\u001b[0m \u001b[0;34m=\u001b[0m \u001b[0mTopSecret\u001b[0m\u001b[0;34m(\u001b[0m\u001b[0;34m'A secret'\u001b[0m\u001b[0;34m)\u001b[0m\u001b[0;34m\u001b[0m\u001b[0m\n\u001b[1;32m     13\u001b[0m \u001b[0;34m\u001b[0m\u001b[0m\n\u001b[0;32m---> 14\u001b[0;31m \u001b[0ma_secure_msg\u001b[0m\u001b[0;34m.\u001b[0m\u001b[0m__secret_boss\u001b[0m\u001b[0;34m\u001b[0m\u001b[0m\n\u001b[0m",
      "\u001b[0;31mAttributeError\u001b[0m: 'TopSecret' object has no attribute '__secret_boss'"
     ]
    }
   ],
   "source": [
    "class TopSecret(object):\n",
    "    \n",
    "    def __init__(self, secret_message): \n",
    "        \n",
    "        self.secret_message = secret_message\n",
    "        self.__secret_boss = floor(random() * 100)\n",
    "        \n",
    "        \n",
    "    def pass_message(self):\n",
    "         print('Your message \"%s\" has been sent to your secret_boss' % self.secret_message)\n",
    "\n",
    "a_secure_msg = TopSecret('A secret')\n",
    "\n",
    "a_secure_msg.__secret_boss"
   ]
  },
  {
   "cell_type": "markdown",
   "metadata": {},
   "source": [
    "No one can access your private variable now."
   ]
  },
  {
   "cell_type": "markdown",
   "metadata": {},
   "source": [
    "### Overload an operator\n",
    "Consider the following example:"
   ]
  },
  {
   "cell_type": "code",
   "execution_count": 105,
   "metadata": {},
   "outputs": [],
   "source": [
    "class Pupil(object):\n",
    "    \n",
    "    def __init__(self, name, age):\n",
    "        \n",
    "        self.name = name\n",
    "        self.age = age\n",
    "\n",
    "        \n",
    "Charles = Pupil('Charlie', 5)\n",
    "Emma = Pupil('Emma', 4)"
   ]
  },
  {
   "cell_type": "markdown",
   "metadata": {},
   "source": [
    "We all know 4 < 5, let's ask python to compare their age"
   ]
  },
  {
   "cell_type": "code",
   "execution_count": 106,
   "metadata": {},
   "outputs": [
    {
     "ename": "TypeError",
     "evalue": "'<' not supported between instances of 'Pupil' and 'Pupil'",
     "output_type": "error",
     "traceback": [
      "\u001b[0;31m---------------------------------------------------------------------------\u001b[0m",
      "\u001b[0;31mTypeError\u001b[0m                                 Traceback (most recent call last)",
      "\u001b[0;32m<ipython-input-106-15f08b4bcb3a>\u001b[0m in \u001b[0;36m<module>\u001b[0;34m()\u001b[0m\n\u001b[0;32m----> 1\u001b[0;31m \u001b[0mCharles\u001b[0m \u001b[0;34m<\u001b[0m \u001b[0mEmma\u001b[0m\u001b[0;34m\u001b[0m\u001b[0m\n\u001b[0m",
      "\u001b[0;31mTypeError\u001b[0m: '<' not supported between instances of 'Pupil' and 'Pupil'"
     ]
    }
   ],
   "source": [
    "Charles < Emma"
   ]
  },
  {
   "cell_type": "markdown",
   "metadata": {},
   "source": [
    "The type error says '<' is not supported. Let's make it working!"
   ]
  },
  {
   "cell_type": "code",
   "execution_count": 108,
   "metadata": {},
   "outputs": [
    {
     "name": "stdout",
     "output_type": "stream",
     "text": [
      "Charles < Emma: False\n"
     ]
    }
   ],
   "source": [
    "class Pupil(object):\n",
    "    \n",
    "    def __init__(self, name, age):\n",
    "        \n",
    "        self.name = name\n",
    "        self.age = age\n",
    "        \n",
    "    \n",
    "    def __lt__(self, pupil):\n",
    "        \n",
    "        # make sure this argument is a pupil\n",
    "        if isinstance(pupil, Pupil):\n",
    "            \n",
    "            return self.age < pupil.age\n",
    "\n",
    "        \n",
    "Charles = Pupil('Charlie', 5)\n",
    "Emma = Pupil('Emma', 4)\n",
    "\n",
    "print('Charles < Emma:', Charles < Emma)"
   ]
  },
  {
   "cell_type": "markdown",
   "metadata": {},
   "source": [
    "This saves us some time compared to"
   ]
  },
  {
   "cell_type": "code",
   "execution_count": 109,
   "metadata": {},
   "outputs": [
    {
     "name": "stdout",
     "output_type": "stream",
     "text": [
      "Charles < Emma: False\n"
     ]
    }
   ],
   "source": [
    "print('Charles < Emma:', Charles.age < Emma.age)"
   ]
  },
  {
   "cell_type": "markdown",
   "metadata": {},
   "source": [
    "What if we want 'Charles < 10' to return true as well? i.e. a shorter way to tell if Charles is younger than 10 years of age."
   ]
  },
  {
   "cell_type": "code",
   "execution_count": 111,
   "metadata": {},
   "outputs": [
    {
     "name": "stdout",
     "output_type": "stream",
     "text": [
      "Charles < Emma: False\n",
      "Charles < 10: True\n"
     ]
    }
   ],
   "source": [
    "class Pupil(object):\n",
    "    \n",
    "    def __init__(self, name, age):\n",
    "        \n",
    "        self.name = name\n",
    "        self.age = age\n",
    "        \n",
    "    \n",
    "    def __lt__(self, pupil_or_age):\n",
    "        \n",
    "        # given a pupil\n",
    "        if isinstance(pupil_or_age, Pupil):\n",
    "            \n",
    "            return self.age < pupil_or_age.age\n",
    "        \n",
    "        # if it is an integer\n",
    "        if isinstance(pupil_or_age, int):\n",
    "            return self.age < pupil_or_age\n",
    "\n",
    "        \n",
    "Charles = Pupil('Charlie', 5)\n",
    "Emma = Pupil('Emma', 4)\n",
    "\n",
    "print('Charles < Emma:', Charles < Emma)\n",
    "print('Charles < 10:', Charles < 10)"
   ]
  },
  {
   "cell_type": "markdown",
   "metadata": {},
   "source": [
    "[Operator overloading](https://www.geeksforgeeks.org/operator-overloading-in-python/)"
   ]
  }
 ],
 "metadata": {
  "kernelspec": {
   "display_name": "Python 3",
   "language": "python",
   "name": "python3"
  },
  "language_info": {
   "codemirror_mode": {
    "name": "ipython",
    "version": 3
   },
   "file_extension": ".py",
   "mimetype": "text/x-python",
   "name": "python",
   "nbconvert_exporter": "python",
   "pygments_lexer": "ipython3",
   "version": "3.6.5"
  }
 },
 "nbformat": 4,
 "nbformat_minor": 2
}
