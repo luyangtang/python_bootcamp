{
 "cells": [
  {
   "cell_type": "markdown",
   "metadata": {},
   "source": [
    "# Iterators\n",
    "\n",
    "Most container objects can be looped over using a `for` statement. What happens behind the scenes?\n",
    "\n",
    "`for element in [1, 2, 3]`"
   ]
  },
  {
   "cell_type": "code",
   "execution_count": 1,
   "metadata": {},
   "outputs": [
    {
     "name": "stdout",
     "output_type": "stream",
     "text": [
      "1\n",
      "2\n",
      "3\n"
     ]
    }
   ],
   "source": [
    "a_list_of_element = [1, 2, 3]\n",
    "\n",
    "for element in a_list_of_element:\n",
    "    \n",
    "    print(element)"
   ]
  },
  {
   "cell_type": "code",
   "execution_count": 12,
   "metadata": {},
   "outputs": [
    {
     "data": {
      "text/plain": [
       "<list_iterator at 0x107f668d0>"
      ]
     },
     "execution_count": 12,
     "metadata": {},
     "output_type": "execute_result"
    }
   ],
   "source": [
    "# for statement calls iter() on the container object\n",
    "it = iter(a_list_of_element)\n",
    "\n",
    "it"
   ]
  },
  {
   "cell_type": "code",
   "execution_count": 13,
   "metadata": {},
   "outputs": [
    {
     "data": {
      "text/plain": [
       "1"
      ]
     },
     "execution_count": 13,
     "metadata": {},
     "output_type": "execute_result"
    }
   ],
   "source": [
    "# The function returns an iterator object that defines the method __next__() which accesses elements in the container one at a time.\n",
    "next(it)"
   ]
  },
  {
   "cell_type": "code",
   "execution_count": 14,
   "metadata": {},
   "outputs": [
    {
     "data": {
      "text/plain": [
       "2"
      ]
     },
     "execution_count": 14,
     "metadata": {},
     "output_type": "execute_result"
    }
   ],
   "source": [
    "next(it)"
   ]
  },
  {
   "cell_type": "code",
   "execution_count": 15,
   "metadata": {},
   "outputs": [
    {
     "data": {
      "text/plain": [
       "3"
      ]
     },
     "execution_count": 15,
     "metadata": {},
     "output_type": "execute_result"
    }
   ],
   "source": [
    "next(it)"
   ]
  },
  {
   "cell_type": "code",
   "execution_count": 16,
   "metadata": {},
   "outputs": [
    {
     "ename": "StopIteration",
     "evalue": "",
     "output_type": "error",
     "traceback": [
      "\u001b[0;31m---------------------------------------------------------------------------\u001b[0m",
      "\u001b[0;31mStopIteration\u001b[0m                             Traceback (most recent call last)",
      "\u001b[0;32m<ipython-input-16-d1ac1660805e>\u001b[0m in \u001b[0;36m<module>\u001b[0;34m()\u001b[0m\n\u001b[1;32m      1\u001b[0m \u001b[0;31m# When there are no more elements, __next__() raises a StopIteration exception which tells the for loop to terminate\u001b[0m\u001b[0;34m\u001b[0m\u001b[0;34m\u001b[0m\u001b[0m\n\u001b[0;32m----> 2\u001b[0;31m \u001b[0mnext\u001b[0m\u001b[0;34m(\u001b[0m\u001b[0mit\u001b[0m\u001b[0;34m)\u001b[0m\u001b[0;34m\u001b[0m\u001b[0m\n\u001b[0m",
      "\u001b[0;31mStopIteration\u001b[0m: "
     ]
    }
   ],
   "source": [
    "# When there are no more elements, __next__() raises a StopIteration exception which tells the for loop to terminate\n",
    "next(it)"
   ]
  },
  {
   "cell_type": "markdown",
   "metadata": {},
   "source": [
    "Now let's create a Zoo as an iterator. What we're trying to achieve here is to be able to make the following codes work:\n",
    "\n",
    "`\n",
    "for animal in zoo:\n",
    "    print('This is a/an %s' % animal.type)\n",
    "`\n",
    "\n",
    "`\n",
    "Out [ ]:\n",
    "This is a/an dog\n",
    "This is a/an cat\n",
    "This is a/an rooster\n",
    "`"
   ]
  },
  {
   "cell_type": "code",
   "execution_count": 26,
   "metadata": {},
   "outputs": [],
   "source": [
    "class Animal(object):\n",
    "    \n",
    "    def __init__(self, _type):\n",
    "        \n",
    "        self.type = _type\n",
    "    \n",
    "\n",
    "class Zoo(object):\n",
    "    \n",
    "    def __init__(self, *args):\n",
    "        \n",
    "        self.__data = []\n",
    "        self.__index = -1\n",
    "        \n",
    "        for arg in args:\n",
    "            \n",
    "            self.__data += [arg]\n",
    "        \n",
    "    \n",
    "    def __iter__(self):\n",
    "        \n",
    "        return self\n",
    "    \n",
    "    def __next__(self):\n",
    "        \n",
    "        if self.__index == len(self.__data) - 1:\n",
    "            raise StopIteration    # raise: see error handling\n",
    "        \n",
    "        self.__index += 1\n",
    "        \n",
    "        return self.__data[self.__index]\n",
    "    \n",
    "\n",
    "zoo = Zoo(\n",
    "    Animal('dog'),\n",
    "    Animal('cat'),\n",
    "    Animal('rooster')\n",
    ")"
   ]
  },
  {
   "cell_type": "markdown",
   "metadata": {},
   "source": [
    "Let's test our codes:"
   ]
  },
  {
   "cell_type": "code",
   "execution_count": 28,
   "metadata": {},
   "outputs": [],
   "source": [
    "for animal in zoo:\n",
    "    print('This is a/an %s' % animal.type)"
   ]
  },
  {
   "cell_type": "markdown",
   "metadata": {},
   "source": [
    "### Generators\n",
    "\n",
    "Iterators created by regular functions with `yield` statement whenever they want to return data."
   ]
  },
  {
   "cell_type": "code",
   "execution_count": 31,
   "metadata": {},
   "outputs": [
    {
     "name": "stdout",
     "output_type": "stream",
     "text": [
      "This is a/an dog\n",
      "This is a/an cat\n",
      "This is a/an rooster\n"
     ]
    }
   ],
   "source": [
    "def zooGenerator(*animals):\n",
    "    \n",
    "    for animal in animals:\n",
    "        \n",
    "        yield(animal)\n",
    "        \n",
    "\n",
    "for animal in zooGenerator(\n",
    "    Animal('dog'),\n",
    "    Animal('cat'),\n",
    "    Animal('rooster')\n",
    "):\n",
    "    print('This is a/an %s' % animal.type)"
   ]
  },
  {
   "cell_type": "markdown",
   "metadata": {},
   "source": [
    "### Pythonic generator expressions"
   ]
  },
  {
   "cell_type": "code",
   "execution_count": 33,
   "metadata": {},
   "outputs": [
    {
     "data": {
      "text/plain": [
       "285"
      ]
     },
     "execution_count": 33,
     "metadata": {},
     "output_type": "execute_result"
    }
   ],
   "source": [
    "# sum of squares\n",
    "# 0 + 1 + 2^2 + 3^2 + ... 9^2\n",
    "sum(i * i for i in range(10))"
   ]
  },
  {
   "cell_type": "code",
   "execution_count": 34,
   "metadata": {},
   "outputs": [
    {
     "data": {
      "text/plain": [
       "260"
      ]
     },
     "execution_count": 34,
     "metadata": {},
     "output_type": "execute_result"
    }
   ],
   "source": [
    "# dot product\n",
    "xVector = [10, 20, 30]\n",
    "yVector = [7, 5, 3]\n",
    "sum(x * y for x, y in zip(xVector, yVector))"
   ]
  },
  {
   "cell_type": "markdown",
   "metadata": {},
   "source": [
    "## What's inside a class?"
   ]
  },
  {
   "cell_type": "code",
   "execution_count": 35,
   "metadata": {},
   "outputs": [
    {
     "data": {
      "text/plain": [
       "{'type': 'dog'}"
      ]
     },
     "execution_count": 35,
     "metadata": {},
     "output_type": "execute_result"
    }
   ],
   "source": [
    "dog = Animal('dog')\n",
    "dog.__dict__"
   ]
  }
 ],
 "metadata": {
  "kernelspec": {
   "display_name": "Python 3",
   "language": "python",
   "name": "python3"
  },
  "language_info": {
   "codemirror_mode": {
    "name": "ipython",
    "version": 3
   },
   "file_extension": ".py",
   "mimetype": "text/x-python",
   "name": "python",
   "nbconvert_exporter": "python",
   "pygments_lexer": "ipython3",
   "version": "3.6.5"
  }
 },
 "nbformat": 4,
 "nbformat_minor": 2
}
