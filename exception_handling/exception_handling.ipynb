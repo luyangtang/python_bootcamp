{
 "cells": [
  {
   "cell_type": "markdown",
   "metadata": {},
   "source": [
    "# Error and Exceptions\n",
    "\n",
    "* Syntax errors: typos, wrong intendations, etc."
   ]
  },
  {
   "cell_type": "code",
   "execution_count": 1,
   "metadata": {},
   "outputs": [
    {
     "ename": "IndentationError",
     "evalue": "expected an indented block (<ipython-input-1-8f07eeeb568f>, line 2)",
     "output_type": "error",
     "traceback": [
      "\u001b[0;36m  File \u001b[0;32m\"<ipython-input-1-8f07eeeb568f>\"\u001b[0;36m, line \u001b[0;32m2\u001b[0m\n\u001b[0;31m    print(i)\u001b[0m\n\u001b[0m        ^\u001b[0m\n\u001b[0;31mIndentationError\u001b[0m\u001b[0;31m:\u001b[0m expected an indented block\n"
     ]
    }
   ],
   "source": [
    "for i in range(0):\n",
    "print(i)"
   ]
  },
  {
   "cell_type": "code",
   "execution_count": 2,
   "metadata": {},
   "outputs": [
    {
     "ename": "SyntaxError",
     "evalue": "Missing parentheses in call to 'print'. Did you mean print(1)? (<ipython-input-2-c94594b6b28f>, line 1)",
     "output_type": "error",
     "traceback": [
      "\u001b[0;36m  File \u001b[0;32m\"<ipython-input-2-c94594b6b28f>\"\u001b[0;36m, line \u001b[0;32m1\u001b[0m\n\u001b[0;31m    print 1\u001b[0m\n\u001b[0m          ^\u001b[0m\n\u001b[0;31mSyntaxError\u001b[0m\u001b[0;31m:\u001b[0m Missing parentheses in call to 'print'. Did you mean print(1)?\n"
     ]
    }
   ],
   "source": [
    "print 1"
   ]
  },
  {
   "cell_type": "markdown",
   "metadata": {},
   "source": [
    "* Exceptions: error raised when attempting an execution"
   ]
  },
  {
   "cell_type": "code",
   "execution_count": 3,
   "metadata": {},
   "outputs": [
    {
     "ename": "ZeroDivisionError",
     "evalue": "division by zero",
     "output_type": "error",
     "traceback": [
      "\u001b[0;31m---------------------------------------------------------------------------\u001b[0m",
      "\u001b[0;31mZeroDivisionError\u001b[0m                         Traceback (most recent call last)",
      "\u001b[0;32m<ipython-input-3-2fc232d1511a>\u001b[0m in \u001b[0;36m<module>\u001b[0;34m()\u001b[0m\n\u001b[0;32m----> 1\u001b[0;31m \u001b[0mprint\u001b[0m\u001b[0;34m(\u001b[0m\u001b[0;36m1\u001b[0m\u001b[0;34m/\u001b[0m\u001b[0;36m0\u001b[0m\u001b[0;34m)\u001b[0m\u001b[0;34m\u001b[0m\u001b[0m\n\u001b[0m",
      "\u001b[0;31mZeroDivisionError\u001b[0m: division by zero"
     ]
    }
   ],
   "source": [
    "print(1/0)"
   ]
  },
  {
   "cell_type": "code",
   "execution_count": 4,
   "metadata": {},
   "outputs": [
    {
     "ename": "NameError",
     "evalue": "name 'animal' is not defined",
     "output_type": "error",
     "traceback": [
      "\u001b[0;31m---------------------------------------------------------------------------\u001b[0m",
      "\u001b[0;31mNameError\u001b[0m                                 Traceback (most recent call last)",
      "\u001b[0;32m<ipython-input-4-da6c6e568d7d>\u001b[0m in \u001b[0;36m<module>\u001b[0;34m()\u001b[0m\n\u001b[0;32m----> 1\u001b[0;31m \u001b[0mprint\u001b[0m\u001b[0;34m(\u001b[0m\u001b[0manimal\u001b[0m\u001b[0;34m)\u001b[0m\u001b[0;34m\u001b[0m\u001b[0m\n\u001b[0m",
      "\u001b[0;31mNameError\u001b[0m: name 'animal' is not defined"
     ]
    }
   ],
   "source": [
    "print(animal)"
   ]
  },
  {
   "cell_type": "code",
   "execution_count": 5,
   "metadata": {},
   "outputs": [
    {
     "ename": "TypeError",
     "evalue": "unsupported operand type(s) for +: 'int' and 'str'",
     "output_type": "error",
     "traceback": [
      "\u001b[0;31m---------------------------------------------------------------------------\u001b[0m",
      "\u001b[0;31mTypeError\u001b[0m                                 Traceback (most recent call last)",
      "\u001b[0;32m<ipython-input-5-13cbd0b642b8>\u001b[0m in \u001b[0;36m<module>\u001b[0;34m()\u001b[0m\n\u001b[0;32m----> 1\u001b[0;31m \u001b[0mprint\u001b[0m\u001b[0;34m(\u001b[0m\u001b[0;36m1\u001b[0m \u001b[0;34m+\u001b[0m \u001b[0;34m'abc'\u001b[0m\u001b[0;34m)\u001b[0m\u001b[0;34m\u001b[0m\u001b[0m\n\u001b[0m",
      "\u001b[0;31mTypeError\u001b[0m: unsupported operand type(s) for +: 'int' and 'str'"
     ]
    }
   ],
   "source": [
    "print(1 + 'abc')"
   ]
  },
  {
   "cell_type": "markdown",
   "metadata": {},
   "source": [
    "### Handling exceptions\n",
    "\n",
    "```\n",
    "try:\n",
    "    \n",
    "    Statement 1\n",
    "    \n",
    "    Statement 2\n",
    "    \n",
    "    ...\n",
    "    \n",
    "\n",
    "except Exception:\n",
    "\n",
    "    Handling the exception with some statement\n",
    "\n",
    "```"
   ]
  },
  {
   "cell_type": "code",
   "execution_count": 86,
   "metadata": {},
   "outputs": [],
   "source": [
    "# Concatenate several strings into 1\n",
    "\n",
    "def concatenate(*args):\n",
    "    \n",
    "    string = ''\n",
    "    \n",
    "    for arg in args:\n",
    "        \n",
    "        string += arg\n",
    "    \n",
    "    return string"
   ]
  },
  {
   "cell_type": "code",
   "execution_count": 87,
   "metadata": {},
   "outputs": [
    {
     "data": {
      "text/plain": [
       "'Alpha and Bravo and Charlie'"
      ]
     },
     "execution_count": 87,
     "metadata": {},
     "output_type": "execute_result"
    }
   ],
   "source": [
    "concatenate('Alpha and ', 'Bravo and ', 'Charlie')"
   ]
  },
  {
   "cell_type": "markdown",
   "metadata": {},
   "source": [
    "But if someone want to concatenate a number"
   ]
  },
  {
   "cell_type": "code",
   "execution_count": 88,
   "metadata": {},
   "outputs": [
    {
     "ename": "TypeError",
     "evalue": "must be str, not int",
     "output_type": "error",
     "traceback": [
      "\u001b[0;31m---------------------------------------------------------------------------\u001b[0m",
      "\u001b[0;31mTypeError\u001b[0m                                 Traceback (most recent call last)",
      "\u001b[0;32m<ipython-input-88-2ad96cf903ce>\u001b[0m in \u001b[0;36m<module>\u001b[0;34m()\u001b[0m\n\u001b[0;32m----> 1\u001b[0;31m \u001b[0mconcatenate\u001b[0m\u001b[0;34m(\u001b[0m\u001b[0;34m'Alpha and '\u001b[0m\u001b[0;34m,\u001b[0m \u001b[0;34m'Bravo and '\u001b[0m\u001b[0;34m,\u001b[0m \u001b[0;34m'Charlie and'\u001b[0m\u001b[0;34m,\u001b[0m \u001b[0;36m123\u001b[0m\u001b[0;34m)\u001b[0m\u001b[0;34m\u001b[0m\u001b[0m\n\u001b[0m",
      "\u001b[0;32m<ipython-input-86-e91df6b70216>\u001b[0m in \u001b[0;36mconcatenate\u001b[0;34m(*args)\u001b[0m\n\u001b[1;32m      7\u001b[0m     \u001b[0;32mfor\u001b[0m \u001b[0marg\u001b[0m \u001b[0;32min\u001b[0m \u001b[0margs\u001b[0m\u001b[0;34m:\u001b[0m\u001b[0;34m\u001b[0m\u001b[0m\n\u001b[1;32m      8\u001b[0m \u001b[0;34m\u001b[0m\u001b[0m\n\u001b[0;32m----> 9\u001b[0;31m         \u001b[0mstring\u001b[0m \u001b[0;34m+=\u001b[0m \u001b[0marg\u001b[0m\u001b[0;34m\u001b[0m\u001b[0m\n\u001b[0m\u001b[1;32m     10\u001b[0m \u001b[0;34m\u001b[0m\u001b[0m\n\u001b[1;32m     11\u001b[0m     \u001b[0;32mreturn\u001b[0m \u001b[0mstring\u001b[0m\u001b[0;34m\u001b[0m\u001b[0m\n",
      "\u001b[0;31mTypeError\u001b[0m: must be str, not int"
     ]
    }
   ],
   "source": [
    "concatenate('Alpha and ', 'Bravo and ', 'Charlie and', 123)"
   ]
  },
  {
   "cell_type": "markdown",
   "metadata": {},
   "source": [
    "We have got a TypeError exception, which we would like to fix."
   ]
  },
  {
   "cell_type": "code",
   "execution_count": 89,
   "metadata": {},
   "outputs": [],
   "source": [
    "# add error handling for this function\n",
    "\n",
    "def concatenate(*args):\n",
    "    \n",
    "    string = ''\n",
    "    \n",
    "    for arg in args:\n",
    "        \n",
    "        try:\n",
    "            \n",
    "            string += arg\n",
    "        \n",
    "        except Exception:\n",
    "            \n",
    "            # convert it to a string\n",
    "            string += str(arg)\n",
    "            \n",
    "    \n",
    "    return string"
   ]
  },
  {
   "cell_type": "code",
   "execution_count": 90,
   "metadata": {},
   "outputs": [
    {
     "data": {
      "text/plain": [
       "'Alpha and Bravo and Charlie'"
      ]
     },
     "execution_count": 90,
     "metadata": {},
     "output_type": "execute_result"
    }
   ],
   "source": [
    "concatenate('Alpha and ', 'Bravo and ', 'Charlie')"
   ]
  },
  {
   "cell_type": "code",
   "execution_count": 91,
   "metadata": {},
   "outputs": [
    {
     "data": {
      "text/plain": [
       "'Alpha and Bravo and Charlie and 123'"
      ]
     },
     "execution_count": 91,
     "metadata": {},
     "output_type": "execute_result"
    }
   ],
   "source": [
    "concatenate('Alpha and ', 'Bravo and ', 'Charlie and ', 123)"
   ]
  },
  {
   "cell_type": "code",
   "execution_count": 92,
   "metadata": {},
   "outputs": [
    {
     "data": {
      "text/plain": [
       "'Alpha and Bravo and Charlie and None'"
      ]
     },
     "execution_count": 92,
     "metadata": {},
     "output_type": "execute_result"
    }
   ],
   "source": [
    "concatenate('Alpha and ', 'Bravo and ', 'Charlie and ', None)"
   ]
  },
  {
   "cell_type": "markdown",
   "metadata": {},
   "source": [
    "Having 'None' doesn't look good to me. I want it to be excluded if a NULL is passed to these positional arguments."
   ]
  },
  {
   "cell_type": "code",
   "execution_count": 104,
   "metadata": {},
   "outputs": [],
   "source": [
    "# add error handling for this function\n",
    "\n",
    "def concatenate(*args):\n",
    "    \n",
    "    string = ''\n",
    "    \n",
    "    for arg in args:\n",
    "        \n",
    "        try:\n",
    "            \n",
    "            if arg:\n",
    "                string += arg\n",
    "            \n",
    "            else:\n",
    "                raise ValueError # Let's make None an invalid value here\n",
    "        \n",
    "        except TypeError:\n",
    "            \n",
    "            # convert it to a string\n",
    "            string += str(arg)\n",
    "        \n",
    "        except ValueError:\n",
    "            \n",
    "            # ignore value errors\n",
    "            pass\n",
    "            \n",
    "    \n",
    "    return string"
   ]
  },
  {
   "cell_type": "code",
   "execution_count": 105,
   "metadata": {},
   "outputs": [
    {
     "data": {
      "text/plain": [
       "'Alpha and Bravo and Charlie and '"
      ]
     },
     "execution_count": 105,
     "metadata": {},
     "output_type": "execute_result"
    }
   ],
   "source": [
    "concatenate('Alpha and ', 'Bravo and ', 'Charlie and ', None)"
   ]
  },
  {
   "cell_type": "markdown",
   "metadata": {},
   "source": [
    "### Defining exceptions\n",
    "\n",
    "We have seen those built-in exceptions TypeError, NameError, ValueError, etc. These are all inheritance from Exception."
   ]
  },
  {
   "cell_type": "code",
   "execution_count": 106,
   "metadata": {},
   "outputs": [
    {
     "name": "stdout",
     "output_type": "stream",
     "text": [
      "True\n",
      "True\n",
      "True\n"
     ]
    }
   ],
   "source": [
    "for exceptionType in [TypeError, NameError, ValueError]:\n",
    "    \n",
    "    print(issubclass(exceptionType, Exception))"
   ]
  },
  {
   "cell_type": "markdown",
   "metadata": {},
   "source": [
    "We are also allowed to define our own exception. Let's look at an example. "
   ]
  },
  {
   "cell_type": "code",
   "execution_count": 126,
   "metadata": {},
   "outputs": [],
   "source": [
    "class Animal(object):\n",
    "    \n",
    "    def __init__(self, _type, _isPet = True):\n",
    "        \n",
    "        self.type = _type\n",
    "        self.isPet = _isPet\n",
    "        \n",
    "    \n",
    "    def adopt(self, name = None):\n",
    "        \n",
    "        self.name = name if name else 'Your %s' % self.type\n",
    "        \n",
    "        print('%s is adopted' % self.name)\n",
    "        \n",
    "        \n",
    "        \n",
    "\n",
    "dog = Animal('Dog', _isPet = True)\n",
    "cat = Animal('Cat', _isPet = True)\n",
    "tiger = Animal('Tiger', _isPet = False)\n"
   ]
  },
  {
   "cell_type": "markdown",
   "metadata": {},
   "source": [
    "Let's try adopt all these animals!"
   ]
  },
  {
   "cell_type": "code",
   "execution_count": 127,
   "metadata": {},
   "outputs": [],
   "source": [
    "def adoptManyAnimals(*animals):\n",
    "    \n",
    "    for animal in animals:\n",
    "        animal.adopt()"
   ]
  },
  {
   "cell_type": "code",
   "execution_count": 128,
   "metadata": {},
   "outputs": [
    {
     "name": "stdout",
     "output_type": "stream",
     "text": [
      "Your Dog is adopted\n",
      "Your Cat is adopted\n",
      "Your Tiger is adopted\n"
     ]
    }
   ],
   "source": [
    "adoptManyAnimals(dog, cat, tiger)"
   ]
  },
  {
   "cell_type": "markdown",
   "metadata": {},
   "source": [
    "Wait... you probably don't want to adopt a tiger! Let's stop people from doing so. Here we are raising an exception\n",
    "```\n",
    "Exception('This animal is not a pet')\n",
    "```\n",
    "\n",
    "Recap: This is an *instance* of the Exception class."
   ]
  },
  {
   "cell_type": "code",
   "execution_count": 129,
   "metadata": {},
   "outputs": [],
   "source": [
    "class Animal(object):\n",
    "    \n",
    "    def __init__(self, _type, _isPet = True):\n",
    "        \n",
    "        self.type = _type\n",
    "        self.isPet = _isPet\n",
    "        \n",
    "    \n",
    "    def adopt(self, name = None):\n",
    "        \n",
    "        # if the animal is not supposed to be a pet, raise an exception!\n",
    "        if not self.isPet:\n",
    "            raise Exception('This animal is not a pet')\n",
    "        \n",
    "        self.name = name if name else 'Your %s' % self.type\n",
    "        \n",
    "        print('%s is adopted' % self.name)\n",
    "        \n",
    "        \n",
    "        \n",
    "\n",
    "dog = Animal('Dog', _isPet = True)\n",
    "cat = Animal('Cat', _isPet = True)\n",
    "tiger = Animal('Tiger', _isPet = False)"
   ]
  },
  {
   "cell_type": "code",
   "execution_count": 130,
   "metadata": {},
   "outputs": [
    {
     "name": "stdout",
     "output_type": "stream",
     "text": [
      "Your Dog is adopted\n",
      "Your Cat is adopted\n"
     ]
    },
    {
     "ename": "Exception",
     "evalue": "This animal is not a pet",
     "output_type": "error",
     "traceback": [
      "\u001b[0;31m---------------------------------------------------------------------------\u001b[0m",
      "\u001b[0;31mException\u001b[0m                                 Traceback (most recent call last)",
      "\u001b[0;32m<ipython-input-130-4405674ec2a7>\u001b[0m in \u001b[0;36m<module>\u001b[0;34m()\u001b[0m\n\u001b[0;32m----> 1\u001b[0;31m \u001b[0madoptManyAnimals\u001b[0m\u001b[0;34m(\u001b[0m\u001b[0mdog\u001b[0m\u001b[0;34m,\u001b[0m \u001b[0mcat\u001b[0m\u001b[0;34m,\u001b[0m \u001b[0mtiger\u001b[0m\u001b[0;34m)\u001b[0m\u001b[0;34m\u001b[0m\u001b[0m\n\u001b[0m",
      "\u001b[0;32m<ipython-input-127-b69f965f4453>\u001b[0m in \u001b[0;36madoptManyAnimals\u001b[0;34m(*animals)\u001b[0m\n\u001b[1;32m      2\u001b[0m \u001b[0;34m\u001b[0m\u001b[0m\n\u001b[1;32m      3\u001b[0m     \u001b[0;32mfor\u001b[0m \u001b[0manimal\u001b[0m \u001b[0;32min\u001b[0m \u001b[0manimals\u001b[0m\u001b[0;34m:\u001b[0m\u001b[0;34m\u001b[0m\u001b[0m\n\u001b[0;32m----> 4\u001b[0;31m         \u001b[0manimal\u001b[0m\u001b[0;34m.\u001b[0m\u001b[0madopt\u001b[0m\u001b[0;34m(\u001b[0m\u001b[0;34m)\u001b[0m\u001b[0;34m\u001b[0m\u001b[0m\n\u001b[0m",
      "\u001b[0;32m<ipython-input-129-8ba414101d15>\u001b[0m in \u001b[0;36madopt\u001b[0;34m(self, name)\u001b[0m\n\u001b[1;32m     11\u001b[0m         \u001b[0;31m# if the animal is not supposed to be a pet, raise an exception!\u001b[0m\u001b[0;34m\u001b[0m\u001b[0;34m\u001b[0m\u001b[0m\n\u001b[1;32m     12\u001b[0m         \u001b[0;32mif\u001b[0m \u001b[0;32mnot\u001b[0m \u001b[0mself\u001b[0m\u001b[0;34m.\u001b[0m\u001b[0misPet\u001b[0m\u001b[0;34m:\u001b[0m\u001b[0;34m\u001b[0m\u001b[0m\n\u001b[0;32m---> 13\u001b[0;31m             \u001b[0;32mraise\u001b[0m \u001b[0mException\u001b[0m\u001b[0;34m(\u001b[0m\u001b[0;34m'This animal is not a pet'\u001b[0m\u001b[0;34m)\u001b[0m\u001b[0;34m\u001b[0m\u001b[0m\n\u001b[0m\u001b[1;32m     14\u001b[0m \u001b[0;34m\u001b[0m\u001b[0m\n\u001b[1;32m     15\u001b[0m         \u001b[0mself\u001b[0m\u001b[0;34m.\u001b[0m\u001b[0mname\u001b[0m \u001b[0;34m=\u001b[0m \u001b[0mname\u001b[0m \u001b[0;32mif\u001b[0m \u001b[0mname\u001b[0m \u001b[0;32melse\u001b[0m \u001b[0;34m'Your %s'\u001b[0m \u001b[0;34m%\u001b[0m \u001b[0mself\u001b[0m\u001b[0;34m.\u001b[0m\u001b[0mtype\u001b[0m\u001b[0;34m\u001b[0m\u001b[0m\n",
      "\u001b[0;31mException\u001b[0m: This animal is not a pet"
     ]
    }
   ],
   "source": [
    "adoptManyAnimals(dog, cat, tiger)"
   ]
  },
  {
   "cell_type": "markdown",
   "metadata": {},
   "source": [
    "Now let's handle this exception."
   ]
  },
  {
   "cell_type": "code",
   "execution_count": 131,
   "metadata": {},
   "outputs": [],
   "source": [
    "def adoptManyAnimals(*animals):\n",
    "    \n",
    "    for animal in animals:\n",
    "        \n",
    "        try:\n",
    "            animal.adopt()\n",
    "        \n",
    "        except Exception as err: # as err: give a nick name to the caught exception because we want to print it out\n",
    "            \n",
    "            # print the message\n",
    "            print('%s is not adopted because %s' % (animal.type, err))\n",
    "            # ignore this animal\n",
    "            \n",
    "            \n",
    "            "
   ]
  },
  {
   "cell_type": "code",
   "execution_count": 132,
   "metadata": {},
   "outputs": [
    {
     "name": "stdout",
     "output_type": "stream",
     "text": [
      "Your Dog is adopted\n",
      "Your Cat is adopted\n",
      "Tiger is not adopted because This animal is not a pet\n"
     ]
    }
   ],
   "source": [
    "adoptManyAnimals(dog, cat, tiger)"
   ]
  },
  {
   "cell_type": "markdown",
   "metadata": {},
   "source": [
    "Now it is working perfect. Wait, someone just abused our programme:"
   ]
  },
  {
   "cell_type": "code",
   "execution_count": 133,
   "metadata": {},
   "outputs": [
    {
     "name": "stdout",
     "output_type": "stream",
     "text": [
      "Your Dog is adopted\n",
      "Your Cat is adopted\n",
      "Tiger is not adopted because This animal is not a pet\n"
     ]
    },
    {
     "ename": "AttributeError",
     "evalue": "'int' object has no attribute 'type'",
     "output_type": "error",
     "traceback": [
      "\u001b[0;31m---------------------------------------------------------------------------\u001b[0m",
      "\u001b[0;31mAttributeError\u001b[0m                            Traceback (most recent call last)",
      "\u001b[0;32m<ipython-input-131-38170b5577ac>\u001b[0m in \u001b[0;36madoptManyAnimals\u001b[0;34m(*animals)\u001b[0m\n\u001b[1;32m      5\u001b[0m         \u001b[0;32mtry\u001b[0m\u001b[0;34m:\u001b[0m\u001b[0;34m\u001b[0m\u001b[0m\n\u001b[0;32m----> 6\u001b[0;31m             \u001b[0manimal\u001b[0m\u001b[0;34m.\u001b[0m\u001b[0madopt\u001b[0m\u001b[0;34m(\u001b[0m\u001b[0;34m)\u001b[0m\u001b[0;34m\u001b[0m\u001b[0m\n\u001b[0m\u001b[1;32m      7\u001b[0m \u001b[0;34m\u001b[0m\u001b[0m\n",
      "\u001b[0;31mAttributeError\u001b[0m: 'int' object has no attribute 'adopt'",
      "\nDuring handling of the above exception, another exception occurred:\n",
      "\u001b[0;31mAttributeError\u001b[0m                            Traceback (most recent call last)",
      "\u001b[0;32m<ipython-input-133-61f1a64036c4>\u001b[0m in \u001b[0;36m<module>\u001b[0;34m()\u001b[0m\n\u001b[0;32m----> 1\u001b[0;31m \u001b[0madoptManyAnimals\u001b[0m\u001b[0;34m(\u001b[0m\u001b[0mdog\u001b[0m\u001b[0;34m,\u001b[0m \u001b[0mcat\u001b[0m\u001b[0;34m,\u001b[0m \u001b[0mtiger\u001b[0m\u001b[0;34m,\u001b[0m \u001b[0;36m123\u001b[0m\u001b[0;34m)\u001b[0m\u001b[0;34m\u001b[0m\u001b[0m\n\u001b[0m",
      "\u001b[0;32m<ipython-input-131-38170b5577ac>\u001b[0m in \u001b[0;36madoptManyAnimals\u001b[0;34m(*animals)\u001b[0m\n\u001b[1;32m      9\u001b[0m \u001b[0;34m\u001b[0m\u001b[0m\n\u001b[1;32m     10\u001b[0m             \u001b[0;31m# print the message\u001b[0m\u001b[0;34m\u001b[0m\u001b[0;34m\u001b[0m\u001b[0m\n\u001b[0;32m---> 11\u001b[0;31m             \u001b[0mprint\u001b[0m\u001b[0;34m(\u001b[0m\u001b[0;34m'%s is not adopted because %s'\u001b[0m \u001b[0;34m%\u001b[0m \u001b[0;34m(\u001b[0m\u001b[0manimal\u001b[0m\u001b[0;34m.\u001b[0m\u001b[0mtype\u001b[0m\u001b[0;34m,\u001b[0m \u001b[0merr\u001b[0m\u001b[0;34m)\u001b[0m\u001b[0;34m)\u001b[0m\u001b[0;34m\u001b[0m\u001b[0m\n\u001b[0m\u001b[1;32m     12\u001b[0m             \u001b[0;31m# ignore this animal\u001b[0m\u001b[0;34m\u001b[0m\u001b[0;34m\u001b[0m\u001b[0m\n\u001b[1;32m     13\u001b[0m \u001b[0;34m\u001b[0m\u001b[0m\n",
      "\u001b[0;31mAttributeError\u001b[0m: 'int' object has no attribute 'type'"
     ]
    }
   ],
   "source": [
    "adoptManyAnimals(dog, cat, tiger, 123)"
   ]
  },
  {
   "cell_type": "markdown",
   "metadata": {},
   "source": [
    "This error message is misleading. The problem is we assumed all exceptions come from the isPet issue. But essentially here we are passing an integer as an argument which doesn't have the method `adopt` (what does it even mean to adopt an integer??) To fix this, let's carefully design our exception. Instead of raising an instance of Exception (`Exception('This animal is not a pet')`), let's create an inherited class so that it behaves just like TypeError, NameError, etc."
   ]
  },
  {
   "cell_type": "code",
   "execution_count": 137,
   "metadata": {},
   "outputs": [],
   "source": [
    "class PetError(Exception):\n",
    "    \n",
    "    \"\"\"Exception raised when a non-pet gets adopted.\n",
    "\n",
    "    Attributes:\n",
    "        expression -- input expression in which the error occurred\n",
    "        message -- explanation of the error\n",
    "    \"\"\"\n",
    "    \n",
    "    def __init__(self):\n",
    "        pass"
   ]
  },
  {
   "cell_type": "code",
   "execution_count": 138,
   "metadata": {},
   "outputs": [],
   "source": [
    "class Animal(object):\n",
    "    \n",
    "    def __init__(self, _type, _isPet = True):\n",
    "        \n",
    "        self.type = _type\n",
    "        self.isPet = _isPet\n",
    "        \n",
    "    \n",
    "    def adopt(self, name = None):\n",
    "        \n",
    "        # if the animal is not supposed to be a pet, raise an exception!\n",
    "        if not self.isPet:\n",
    "            \n",
    "            # raise our PetError instead\n",
    "            raise PetError\n",
    "        \n",
    "        self.name = name if name else 'Your %s' % self.type\n",
    "        \n",
    "        print('%s is adopted' % self.name)\n",
    "        \n",
    "        \n",
    "        \n",
    "\n",
    "dog = Animal('Dog', _isPet = True)\n",
    "cat = Animal('Cat', _isPet = True)\n",
    "tiger = Animal('Tiger', _isPet = False)"
   ]
  },
  {
   "cell_type": "code",
   "execution_count": 139,
   "metadata": {},
   "outputs": [],
   "source": [
    "def adoptManyAnimals(*animals):\n",
    "    \n",
    "    for animal in animals:\n",
    "        \n",
    "        try:\n",
    "            animal.adopt()\n",
    "        \n",
    "        except PetError as err: # as err: give a nick name to the caught exception because we want to print it out\n",
    "            \n",
    "            # print the message\n",
    "            print('%s is not adopted because %s' % (animal.type, err))\n",
    "            # ignore this animal\n",
    "        \n",
    "        except Exception as err:\n",
    "            print(err)"
   ]
  },
  {
   "cell_type": "code",
   "execution_count": 140,
   "metadata": {},
   "outputs": [
    {
     "name": "stdout",
     "output_type": "stream",
     "text": [
      "Your Dog is adopted\n",
      "Your Cat is adopted\n",
      "Tiger is not adopted because \n",
      "'int' object has no attribute 'adopt'\n"
     ]
    }
   ],
   "source": [
    "adoptManyAnimals(dog, cat, tiger, 123)"
   ]
  },
  {
   "cell_type": "markdown",
   "metadata": {},
   "source": [
    "Now the errors are classified and clearly labelled - much easier to read! A bonus question - can we print a line to tell which animal is the next one on the list?\n",
    "\n",
    "If a `finally` clause is present, it will execute as the last task before the `try` statement completes. It runs whether or not the `try` statement produces an exception."
   ]
  },
  {
   "cell_type": "code",
   "execution_count": 142,
   "metadata": {},
   "outputs": [],
   "source": [
    "def adoptManyAnimals(*animals):\n",
    "    \n",
    "    for animal in animals:\n",
    "        \n",
    "        try:\n",
    "            animal.adopt()\n",
    "        \n",
    "        except PetError as err: # as err: give a nick name to the caught exception because we want to print it out\n",
    "            \n",
    "            # print the message\n",
    "            print('%s is not adopted because %s' % (animal.type, err))\n",
    "            # ignore this animal\n",
    "        \n",
    "        except Exception as err:\n",
    "            print(err)\n",
    "        \n",
    "        finally:\n",
    "            print('Moving on to the next one')"
   ]
  },
  {
   "cell_type": "code",
   "execution_count": 143,
   "metadata": {},
   "outputs": [
    {
     "name": "stdout",
     "output_type": "stream",
     "text": [
      "Your Dog is adopted\n",
      "Moving on to the next one\n",
      "Your Cat is adopted\n",
      "Moving on to the next one\n",
      "Tiger is not adopted because \n",
      "Moving on to the next one\n",
      "'int' object has no attribute 'adopt'\n",
      "Moving on to the next one\n"
     ]
    }
   ],
   "source": [
    "adoptManyAnimals(dog, cat, tiger, 123)"
   ]
  }
 ],
 "metadata": {
  "kernelspec": {
   "display_name": "Python 3",
   "language": "python",
   "name": "python3"
  },
  "language_info": {
   "codemirror_mode": {
    "name": "ipython",
    "version": 3
   },
   "file_extension": ".py",
   "mimetype": "text/x-python",
   "name": "python",
   "nbconvert_exporter": "python",
   "pygments_lexer": "ipython3",
   "version": "3.6.5"
  }
 },
 "nbformat": 4,
 "nbformat_minor": 2
}
