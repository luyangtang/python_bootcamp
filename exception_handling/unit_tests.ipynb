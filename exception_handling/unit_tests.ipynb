{
 "cells": [
  {
   "cell_type": "markdown",
   "metadata": {},
   "source": [
    "# Unit tests\n",
    "\n",
    "In our previous lessons, we have more of less tested our functions and classes. Now we'll formalise this concept.\n",
    "\n",
    "Python script/programmes:\n",
    "```\n",
    "\n",
    "class Animal(object):\n",
    "    \n",
    "    def __init__(self, _type, _isPet = True):\n",
    "        \n",
    "        self.type = _type\n",
    "        self.isPet = _isPet\n",
    "        \n",
    "    \n",
    "    def adopt(self, name = None):\n",
    "        \n",
    "        # if the animal is not supposed to be a pet, raise an exception!\n",
    "        if not self.isPet:\n",
    "            \n",
    "            # raise our PetError instead\n",
    "            raise PetError\n",
    "        \n",
    "        self.name = name if name else 'Your %s' % self.type\n",
    "        \n",
    "        print('%s is adopted' % self.name)\n",
    "        \n",
    " \n",
    "def adoptManyAnimals(*animals):\n",
    "    \n",
    "    for animal in animals:\n",
    "        \n",
    "        try:\n",
    "            animal.adopt()\n",
    "        \n",
    "        except PetError as err: # as err: give a nick name to the caught exception because we want to print it out\n",
    "            \n",
    "            # print the message\n",
    "            print('%s is not adopted because %s' % (animal.type, err))\n",
    "            # ignore this animal\n",
    "        \n",
    "        except Exception as err:\n",
    "            print(err)\n",
    "        \n",
    "        finally:\n",
    "            print('Moving on to the next one')\n",
    "            \n",
    "```\n",
    "        \n",
    "\n",
    "Test cases:\n",
    "\n",
    "```\n",
    "dog = Animal('Dog', _isPet = True)\n",
    "cat = Animal('Cat', _isPet = True)\n",
    "tiger = Animal('Tiger', _isPet = False)\n",
    "\n",
    "adoptManyAnimals(dog, cat, tiger)\n",
    "adoptManyAnimals(dog, cat, tiger, 123)\n",
    "```\n",
    "\n",
    "\n",
    "\n",
    "Let's start with a simpler example"
   ]
  },
  {
   "cell_type": "code",
   "execution_count": 4,
   "metadata": {},
   "outputs": [
    {
     "name": "stdout",
     "output_type": "stream",
     "text": [
      "Help on function useless_sum in module utils:\n",
      "\n",
      "useless_sum(*args)\n",
      "    Sum up all positional arguments\n",
      "\n"
     ]
    }
   ],
   "source": [
    "from utils import useless_sum\n",
    "\n",
    "help(useless_sum)"
   ]
  },
  {
   "cell_type": "code",
   "execution_count": 5,
   "metadata": {},
   "outputs": [
    {
     "name": "stdout",
     "output_type": "stream",
     "text": [
      "64\n",
      "58\n",
      "112\n"
     ]
    },
    {
     "ename": "TypeError",
     "evalue": "unsupported operand type(s) for +=: 'int' and 'str'",
     "output_type": "error",
     "traceback": [
      "\u001b[0;31m---------------------------------------------------------------------------\u001b[0m",
      "\u001b[0;31mTypeError\u001b[0m                                 Traceback (most recent call last)",
      "\u001b[0;32m<ipython-input-5-854beb213f99>\u001b[0m in \u001b[0;36m<module>\u001b[0;34m()\u001b[0m\n\u001b[1;32m      2\u001b[0m \u001b[0mprint\u001b[0m\u001b[0;34m(\u001b[0m\u001b[0museless_sum\u001b[0m\u001b[0;34m(\u001b[0m\u001b[0;36m1\u001b[0m\u001b[0;34m,\u001b[0m\u001b[0;34m-\u001b[0m\u001b[0;36m3\u001b[0m\u001b[0;34m,\u001b[0m\u001b[0;36m4\u001b[0m\u001b[0;34m,\u001b[0m\u001b[0;36m56\u001b[0m\u001b[0;34m)\u001b[0m\u001b[0;34m)\u001b[0m \u001b[0;31m# should return 58\u001b[0m\u001b[0;34m\u001b[0m\u001b[0m\n\u001b[1;32m      3\u001b[0m \u001b[0mprint\u001b[0m\u001b[0;34m(\u001b[0m\u001b[0museless_sum\u001b[0m\u001b[0;34m(\u001b[0m\u001b[0;36m1\u001b[0m\u001b[0;34m,\u001b[0m\u001b[0;36m3\u001b[0m\u001b[0;34m,\u001b[0m\u001b[0;36m13\u001b[0m \u001b[0;34m*\u001b[0m \u001b[0;36m4\u001b[0m\u001b[0;34m,\u001b[0m\u001b[0;36m56\u001b[0m\u001b[0;34m)\u001b[0m\u001b[0;34m)\u001b[0m \u001b[0;31m# should return 112\u001b[0m\u001b[0;34m\u001b[0m\u001b[0m\n\u001b[0;32m----> 4\u001b[0;31m \u001b[0mprint\u001b[0m\u001b[0;34m(\u001b[0m\u001b[0museless_sum\u001b[0m\u001b[0;34m(\u001b[0m\u001b[0;36m1\u001b[0m\u001b[0;34m,\u001b[0m\u001b[0;36m3\u001b[0m\u001b[0;34m,\u001b[0m\u001b[0;36m4\u001b[0m\u001b[0;34m,\u001b[0m\u001b[0;34m'abc'\u001b[0m\u001b[0;34m)\u001b[0m\u001b[0;34m)\u001b[0m \u001b[0;31m# should raise an error\u001b[0m\u001b[0;34m\u001b[0m\u001b[0m\n\u001b[0m",
      "\u001b[0;32m~/Documents/python_bootcamp/exception_handling/utils.py\u001b[0m in \u001b[0;36museless_sum\u001b[0;34m(*args)\u001b[0m\n\u001b[1;32m      8\u001b[0m \u001b[0;34m\u001b[0m\u001b[0m\n\u001b[1;32m      9\u001b[0m     \u001b[0;32mfor\u001b[0m \u001b[0marg\u001b[0m \u001b[0;32min\u001b[0m \u001b[0margs\u001b[0m\u001b[0;34m:\u001b[0m\u001b[0;34m\u001b[0m\u001b[0m\n\u001b[0;32m---> 10\u001b[0;31m         \u001b[0msum\u001b[0m \u001b[0;34m+=\u001b[0m \u001b[0marg\u001b[0m\u001b[0;34m\u001b[0m\u001b[0m\n\u001b[0m\u001b[1;32m     11\u001b[0m \u001b[0;34m\u001b[0m\u001b[0m\n\u001b[1;32m     12\u001b[0m     \u001b[0;32mreturn\u001b[0m \u001b[0msum\u001b[0m\u001b[0;34m\u001b[0m\u001b[0m\n",
      "\u001b[0;31mTypeError\u001b[0m: unsupported operand type(s) for +=: 'int' and 'str'"
     ]
    }
   ],
   "source": [
    "print(useless_sum(1,3,4,56)) # should return 64\n",
    "print(useless_sum(1,-3,4,56)) # should return 58\n",
    "print(useless_sum(1,3,13 * 4,56)) # should return 112\n",
    "print(useless_sum(1,3,4,'abc')) # should raise an error"
   ]
  },
  {
   "cell_type": "code",
   "execution_count": 6,
   "metadata": {},
   "outputs": [],
   "source": [
    "def test_useless_sum():\n",
    "    assert useless_sum(1,3,4,56) == 64\n",
    "    assert useless_sum(1,-3,4,56) == 58\n",
    "    assert useless_sum(1,3,13 * 4,56) == 112\n",
    "\n",
    "test_useless_sum()\n",
    "\n",
    "# What if you are expecting an exception?"
   ]
  },
  {
   "cell_type": "markdown",
   "metadata": {},
   "source": [
    "### Manual testing & Automated testing\n",
    "\n",
    "When designing the function, we should have already known our test cases and expected outcomes in mind. Each time you modify the function, these test cases should still pass - or you know what is gonna change. One thing you don't want to do is to execute hundreds lines of `print` commands and line up the numbers.\n",
    "\n",
    "\n",
    "#### Unit test vs Integration tests\n",
    "To do this, let's introduce python's unit test framework `unittest`.\n",
    "\n",
    "First check in terminal if you have got it already:\n",
    "\n",
    "`\n",
    "lytang$ python\n",
    "`\n",
    "\n",
    "Then you'll be in an interactive shell\n",
    "\n",
    "```\n",
    "Python 3.6.5 |Anaconda, Inc.| (default, Apr 26 2018, 08:42:37) \n",
    "[GCC 4.2.1 Compatible Clang 4.0.1 (tags/RELEASE_401/final)] on darwin\n",
    "Type \"help\", \"copyright\", \"credits\" or \"license\" for more information.\n",
    ">>> \n",
    "```\n",
    "\n",
    "Type `import unittest` followed by enter.\n",
    "\n",
    "If you don't see any exception, congratulations!\n",
    "\n",
    "```\n",
    "Python 3.6.5 |Anaconda, Inc.| (default, Apr 26 2018, 08:42:37) \n",
    "[GCC 4.2.1 Compatible Clang 4.0.1 (tags/RELEASE_401/final)] on darwin\n",
    "Type \"help\", \"copyright\", \"credits\" or \"license\" for more information.\n",
    ">>> import unittest\n",
    ">>> \n",
    "```\n",
    "\n",
    "Otherwise, you may need to install this library to your pc/venv. (We'll explain Virtual environment in due course).\n",
    "\n",
    "\n",
    "Go to terminal:\n",
    "\n",
    "```\n",
    "lytang$ pip install pytest\n",
    "```\n",
    "\n",
    "Once installed, check if you can now import unittest in the interactive shell."
   ]
  },
  {
   "cell_type": "markdown",
   "metadata": {},
   "source": [
    "Reference:\n",
    "[Using Python unittest in IPython or Jupyter](https://medium.com/@vladbezden/using-python-unittest-in-ipython-or-jupyter-732448724e31)"
   ]
  },
  {
   "cell_type": "code",
   "execution_count": 7,
   "metadata": {},
   "outputs": [
    {
     "name": "stderr",
     "output_type": "stream",
     "text": [
      "....\n",
      "----------------------------------------------------------------------\n",
      "Ran 4 tests in 0.004s\n",
      "\n",
      "OK\n"
     ]
    }
   ],
   "source": [
    "import unittest\n",
    "\n",
    "class TestUselessSum(unittest.TestCase):\n",
    "    \n",
    "    def test_sum(self):\n",
    "        self.assertEqual(useless_sum(1,3,4,56), 64, 'Should be 64')\n",
    "        \n",
    "    def test_sum_with_negatives(self):\n",
    "        self.assertEqual(useless_sum(1,-3,4,56), 58, 'Should be 58')\n",
    "        \n",
    "    def test_sum_with_no_arg(self):\n",
    "        self.assertEqual(useless_sum(), 0, 'Should be 0')\n",
    "    \n",
    "    def test_sum_with_wrong_input_type(self):\n",
    "        self.assertRaises(TypeError, useless_sum, 1,3,4,'abc')\n",
    "        \n",
    "        \n",
    "if __name__ == '__main__':\n",
    "    unittest.main(argv=['first-arg-is-ignored'], exit=False)"
   ]
  },
  {
   "cell_type": "markdown",
   "metadata": {},
   "source": [
    "A failed test looks like:"
   ]
  },
  {
   "cell_type": "code",
   "execution_count": 8,
   "metadata": {},
   "outputs": [
    {
     "name": "stderr",
     "output_type": "stream",
     "text": [
      "...E\n",
      "======================================================================\n",
      "ERROR: test_sum_with_wrong_input_type (__main__.TestUselessSum)\n",
      "----------------------------------------------------------------------\n",
      "Traceback (most recent call last):\n",
      "  File \"<ipython-input-8-adc0e014afbf>\", line 15, in test_sum_with_wrong_input_type\n",
      "    self.assertRaises(NameError, useless_sum, 1,3,4,'abc')\n",
      "  File \"/Users/luyangtang/anaconda3/lib/python3.6/unittest/case.py\", line 733, in assertRaises\n",
      "    return context.handle('assertRaises', args, kwargs)\n",
      "  File \"/Users/luyangtang/anaconda3/lib/python3.6/unittest/case.py\", line 178, in handle\n",
      "    callable_obj(*args, **kwargs)\n",
      "  File \"/Users/luyangtang/Documents/python_bootcamp/exception_handling/utils.py\", line 10, in useless_sum\n",
      "    sum += arg\n",
      "TypeError: unsupported operand type(s) for +=: 'int' and 'str'\n",
      "\n",
      "----------------------------------------------------------------------\n",
      "Ran 4 tests in 0.013s\n",
      "\n",
      "FAILED (errors=1)\n"
     ]
    }
   ],
   "source": [
    "import unittest\n",
    "\n",
    "class TestUselessSum(unittest.TestCase):\n",
    "    \n",
    "    def test_sum(self):\n",
    "        self.assertEqual(useless_sum(1,3,4,56), 64, 'Should be 64')\n",
    "        \n",
    "    def test_sum_with_negatives(self):\n",
    "        self.assertEqual(useless_sum(1,-3,4,56), 58, 'Should be 58')\n",
    "        \n",
    "    def test_sum_with_no_arg(self):\n",
    "        self.assertEqual(useless_sum(), 0, 'Should be 0')\n",
    "    \n",
    "    def test_sum_with_wrong_input_type(self):\n",
    "        self.assertRaises(NameError, useless_sum, 1,3,4,'abc')\n",
    "        \n",
    "        \n",
    "if __name__ == '__main__':\n",
    "    unittest.main(argv=['first-arg-is-ignored'], exit=False)"
   ]
  }
 ],
 "metadata": {
  "kernelspec": {
   "display_name": "Python 3",
   "language": "python",
   "name": "python3"
  },
  "language_info": {
   "codemirror_mode": {
    "name": "ipython",
    "version": 3
   },
   "file_extension": ".py",
   "mimetype": "text/x-python",
   "name": "python",
   "nbconvert_exporter": "python",
   "pygments_lexer": "ipython3",
   "version": "3.6.5"
  }
 },
 "nbformat": 4,
 "nbformat_minor": 2
}
