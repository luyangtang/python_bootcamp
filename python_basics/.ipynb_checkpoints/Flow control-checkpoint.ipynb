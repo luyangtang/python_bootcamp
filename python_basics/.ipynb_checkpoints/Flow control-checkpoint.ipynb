{
 "cells": [
  {
   "cell_type": "markdown",
   "metadata": {},
   "source": [
    "# Flow controls \n",
    "\n",
    "The following content credits to Real Python:\n",
    "\n",
    "*Iteration* means executing the same block of code over and over, potentially many times. A programming structure that implements iteration is called a loop.\n",
    "\n",
    "In programming, there are two types of iteration, _indefinite_ and _definite_:\n",
    "\n",
    "With *indefinite* iteration, the number of times the loop is executed isn’t specified explicitly in advance. Rather, the designated block is executed repeatedly as long as some condition is met.\n",
    "\n",
    "With *definite iteration*, the number of times the designated block will be executed is specified explicitly at the time the loop starts."
   ]
  },
  {
   "cell_type": "markdown",
   "metadata": {},
   "source": [
    "### format of a rudimentary while loop\n",
    "```\n",
    "while <expr>:\n",
    "    <statement(s)>\n",
    "```\n",
    "\n",
    "`<expr>`: boolean (or anything Boolean-convertable)"
   ]
  },
  {
   "cell_type": "code",
   "execution_count": 3,
   "metadata": {},
   "outputs": [
    {
     "name": "stdout",
     "output_type": "stream",
     "text": [
      "0\n",
      "1\n",
      "2\n",
      "3\n",
      "4\n"
     ]
    }
   ],
   "source": [
    "# example: print 0 to 4\n",
    "i = 0\n",
    "while i < 5:\n",
    "    print(i)\n",
    "    i += 1"
   ]
  },
  {
   "cell_type": "code",
   "execution_count": 4,
   "metadata": {},
   "outputs": [],
   "source": [
    "# the while loop may never be executed\n",
    "i = 0\n",
    "while i > 0:\n",
    "    print(i)\n",
    "    i += 1"
   ]
  },
  {
   "cell_type": "markdown",
   "metadata": {},
   "source": [
    "Non-boolean value taken by `<expr>` will be converted\n",
    "\n",
    "| Original Data Type | Boolean True | Boolean False |\n",
    "| --- | --- | --- |\n",
    "| Integer `i` | `i > 0` | `i = 0` |\n",
    "| List `a` | `len(a) > 0` | `len(a) = 0`|"
   ]
  },
  {
   "cell_type": "code",
   "execution_count": 10,
   "metadata": {},
   "outputs": [
    {
     "name": "stdout",
     "output_type": "stream",
     "text": [
      "6\n",
      "5\n",
      "4\n",
      "3\n",
      "2\n",
      "1\n",
      "---\n",
      "0\n"
     ]
    }
   ],
   "source": [
    "num = 6\n",
    "while num:\n",
    "    print(num)\n",
    "    num -= 1\n",
    "    \n",
    "print('---\\n' + str(num))"
   ]
  },
  {
   "cell_type": "code",
   "execution_count": 12,
   "metadata": {},
   "outputs": [
    {
     "name": "stdout",
     "output_type": "stream",
     "text": [
      "['foo', 'bar', 'baz']\n",
      "['foo', 'bar']\n",
      "['foo']\n"
     ]
    }
   ],
   "source": [
    "a = ['foo', 'bar', 'baz']\n",
    "while a:\n",
    "    print(a)\n",
    "    a.pop()"
   ]
  },
  {
   "cell_type": "markdown",
   "metadata": {},
   "source": [
    "### Interruption of Loop Iteration\n",
    "\n",
    "Credit to RealPython:\n",
    "\n",
    "*break* immediately terminates a loop entirely. Program execution proceeds to the first statement following the loop body.\n",
    "\n",
    "*continue* immediately terminates the current loop iteration. Execution jumps to the top of the loop, and the controlling expression is re-evaluated to determine whether the loop will execute again or terminate.\n",
    "\n",
    "![flow control illustration](https://files.realpython.com/media/t.899f357dd948.png)"
   ]
  },
  {
   "cell_type": "code",
   "execution_count": 14,
   "metadata": {},
   "outputs": [
    {
     "name": "stdout",
     "output_type": "stream",
     "text": [
      "4\n",
      "3\n",
      "The end of the loop\n"
     ]
    }
   ],
   "source": [
    "n = 5\n",
    "while n:\n",
    "    n -= 1\n",
    "    if n == 2:\n",
    "        break\n",
    "    print(n)\n",
    "    \n",
    "print('The end of the loop')"
   ]
  },
  {
   "cell_type": "code",
   "execution_count": 15,
   "metadata": {},
   "outputs": [
    {
     "name": "stdout",
     "output_type": "stream",
     "text": [
      "4\n",
      "3\n",
      "1\n",
      "0\n",
      "The end of the loop\n"
     ]
    }
   ],
   "source": [
    "n = 5\n",
    "while n:\n",
    "    n -= 1\n",
    "    if n == 2:\n",
    "        continue\n",
    "    print(n)\n",
    "    \n",
    "print('The end of the loop')"
   ]
  },
  {
   "cell_type": "markdown",
   "metadata": {},
   "source": [
    "### The else Clause\n",
    "\n",
    "Python specific syntax\n",
    "\n",
    "```\n",
    "while <expr>:\n",
    "    <statement(s)>\n",
    "else:\n",
    "    <additional_statement(s)>\n",
    "```\n",
    "\n",
    "The `<additional_statement(s)>` specified in the else clause will be executed when the while loop terminates. *Not executed if the while loop is terminated by break clause. So `<expr>` being false is a necessary condition for `<additional_statement(s)>` to be executed.*\n"
   ]
  },
  {
   "cell_type": "code",
   "execution_count": 16,
   "metadata": {},
   "outputs": [
    {
     "name": "stdout",
     "output_type": "stream",
     "text": [
      "4\n",
      "3\n",
      "The end of the loop\n"
     ]
    }
   ],
   "source": [
    "n = 5\n",
    "while n:\n",
    "    n -= 1\n",
    "    if n == 2:\n",
    "        break\n",
    "    print(n)\n",
    "else:\n",
    "    print('additional_statement(s)')\n",
    "    \n",
    "print('The end of the loop')"
   ]
  },
  {
   "cell_type": "code",
   "execution_count": 18,
   "metadata": {},
   "outputs": [
    {
     "name": "stdout",
     "output_type": "stream",
     "text": [
      "4\n",
      "3\n",
      "2\n",
      "1\n",
      "0\n",
      "loop done\n",
      "The end of the loop\n"
     ]
    }
   ],
   "source": [
    "n = 5\n",
    "while n:\n",
    "    n -= 1\n",
    "    print(n)\n",
    "else:\n",
    "    print('loop done')\n",
    "    \n",
    "print('The end of the loop')"
   ]
  },
  {
   "cell_type": "code",
   "execution_count": 24,
   "metadata": {},
   "outputs": [
    {
     "name": "stdout",
     "output_type": "stream",
     "text": [
      "baa not found\n",
      " this may not be very useful because \n",
      "1) you can use built-in search functions \n",
      "2) you may probably want to use for loop to traverse a list\n",
      "\n"
     ]
    }
   ],
   "source": [
    "# application: search result\n",
    "\n",
    "a = ['foo','bar','baz']\n",
    "\n",
    "search_string = 'baa'\n",
    "\n",
    "while i < len(a):\n",
    "    if search_string == a[i]:\n",
    "        print(search_string + ' found')\n",
    "        break\n",
    "    i += 1\n",
    "else:\n",
    "    print(search_string + ' not found')\n",
    "    \n",
    "print(\n",
    "''' this may not be very useful because \n",
    "1) you can use built-in search functions \n",
    "2) you may probably want to use for loop to traverse a list\n",
    "'''\n",
    ")"
   ]
  },
  {
   "cell_type": "markdown",
   "metadata": {},
   "source": [
    "### One line while loop\n",
    "\n",
    "If there are multiple statements in the block that makes up the loop body, they can be separated by semicolons (;):"
   ]
  },
  {
   "cell_type": "code",
   "execution_count": 25,
   "metadata": {},
   "outputs": [
    {
     "name": "stdout",
     "output_type": "stream",
     "text": [
      "0\n",
      "1\n",
      "2\n",
      "3\n",
      "4\n"
     ]
    }
   ],
   "source": [
    "n = 0;\n",
    "while n < 5: print(n); n += 1"
   ]
  }
 ],
 "metadata": {
  "kernelspec": {
   "display_name": "Python 3",
   "language": "python",
   "name": "python3"
  },
  "language_info": {
   "codemirror_mode": {
    "name": "ipython",
    "version": 3
   },
   "file_extension": ".py",
   "mimetype": "text/x-python",
   "name": "python",
   "nbconvert_exporter": "python",
   "pygments_lexer": "ipython3",
   "version": "3.6.4"
  }
 },
 "nbformat": 4,
 "nbformat_minor": 2
}
